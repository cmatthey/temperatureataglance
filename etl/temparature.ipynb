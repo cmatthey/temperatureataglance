{
 "cells": [
  {
   "cell_type": "code",
   "execution_count": 1,
   "id": "iraqi-africa",
   "metadata": {},
   "outputs": [
    {
     "data": {
      "text/html": [
       "<div>\n",
       "<style scoped>\n",
       "    .dataframe tbody tr th:only-of-type {\n",
       "        vertical-align: middle;\n",
       "    }\n",
       "\n",
       "    .dataframe tbody tr th {\n",
       "        vertical-align: top;\n",
       "    }\n",
       "\n",
       "    .dataframe thead th {\n",
       "        text-align: right;\n",
       "    }\n",
       "</style>\n",
       "<table border=\"1\" class=\"dataframe\">\n",
       "  <thead>\n",
       "    <tr style=\"text-align: right;\">\n",
       "      <th></th>\n",
       "      <th>dt</th>\n",
       "      <th>AverageTemperature</th>\n",
       "      <th>AverageTemperatureUncertainty</th>\n",
       "      <th>City</th>\n",
       "      <th>Country</th>\n",
       "      <th>Latitude</th>\n",
       "      <th>Longitude</th>\n",
       "    </tr>\n",
       "  </thead>\n",
       "  <tbody>\n",
       "    <tr>\n",
       "      <th>0</th>\n",
       "      <td>1849-01-01</td>\n",
       "      <td>26.704</td>\n",
       "      <td>1.435</td>\n",
       "      <td>Abidjan</td>\n",
       "      <td>Côte D'Ivoire</td>\n",
       "      <td>5.63N</td>\n",
       "      <td>3.23W</td>\n",
       "    </tr>\n",
       "    <tr>\n",
       "      <th>1</th>\n",
       "      <td>1849-02-01</td>\n",
       "      <td>27.434</td>\n",
       "      <td>1.362</td>\n",
       "      <td>Abidjan</td>\n",
       "      <td>Côte D'Ivoire</td>\n",
       "      <td>5.63N</td>\n",
       "      <td>3.23W</td>\n",
       "    </tr>\n",
       "    <tr>\n",
       "      <th>2</th>\n",
       "      <td>1849-03-01</td>\n",
       "      <td>28.101</td>\n",
       "      <td>1.612</td>\n",
       "      <td>Abidjan</td>\n",
       "      <td>Côte D'Ivoire</td>\n",
       "      <td>5.63N</td>\n",
       "      <td>3.23W</td>\n",
       "    </tr>\n",
       "    <tr>\n",
       "      <th>3</th>\n",
       "      <td>1849-04-01</td>\n",
       "      <td>26.140</td>\n",
       "      <td>1.387</td>\n",
       "      <td>Abidjan</td>\n",
       "      <td>Côte D'Ivoire</td>\n",
       "      <td>5.63N</td>\n",
       "      <td>3.23W</td>\n",
       "    </tr>\n",
       "    <tr>\n",
       "      <th>4</th>\n",
       "      <td>1849-05-01</td>\n",
       "      <td>25.427</td>\n",
       "      <td>1.200</td>\n",
       "      <td>Abidjan</td>\n",
       "      <td>Côte D'Ivoire</td>\n",
       "      <td>5.63N</td>\n",
       "      <td>3.23W</td>\n",
       "    </tr>\n",
       "  </tbody>\n",
       "</table>\n",
       "</div>"
      ],
      "text/plain": [
       "           dt  AverageTemperature  AverageTemperatureUncertainty     City  \\\n",
       "0  1849-01-01              26.704                          1.435  Abidjan   \n",
       "1  1849-02-01              27.434                          1.362  Abidjan   \n",
       "2  1849-03-01              28.101                          1.612  Abidjan   \n",
       "3  1849-04-01              26.140                          1.387  Abidjan   \n",
       "4  1849-05-01              25.427                          1.200  Abidjan   \n",
       "\n",
       "         Country Latitude Longitude  \n",
       "0  Côte D'Ivoire    5.63N     3.23W  \n",
       "1  Côte D'Ivoire    5.63N     3.23W  \n",
       "2  Côte D'Ivoire    5.63N     3.23W  \n",
       "3  Côte D'Ivoire    5.63N     3.23W  \n",
       "4  Côte D'Ivoire    5.63N     3.23W  "
      ]
     },
     "execution_count": 1,
     "metadata": {},
     "output_type": "execute_result"
    }
   ],
   "source": [
    "# Read GlobalLandTemperaturesByMajorCity.csv, in which City names may contain accented character.  \n",
    "import pandas as pd\n",
    "import numpy as np\n",
    "import os.path as path\n",
    "INPUT_DIR = '../input/'\n",
    "INPUT_FILE = 'GlobalLandTemperaturesByMajorCity.csv'\n",
    "temp_raw = pd.read_csv(path.join(INPUT_DIR, INPUT_FILE), encoding='utf-8')\n",
    "temp_raw.head()"
   ]
  },
  {
   "cell_type": "code",
   "execution_count": 2,
   "id": "legitimate-sweet",
   "metadata": {},
   "outputs": [],
   "source": [
    "# Round AverageTemperature to 3 decimal places\n",
    "temp_rounded = temp_raw.round(decimals=3)"
   ]
  },
  {
   "cell_type": "code",
   "execution_count": 3,
   "id": "unique-apache",
   "metadata": {},
   "outputs": [],
   "source": [
    "# Drop temperature data missing temperature value\n",
    "temp_complete = temp_rounded.dropna(axis=0, how='any')\n",
    "# Take 2013 year of data\n",
    "temp_2013 = temp_complete[temp_complete['dt'] == '2013-01-01']"
   ]
  },
  {
   "cell_type": "code",
   "execution_count": 4,
   "id": "intermediate-blackjack",
   "metadata": {},
   "outputs": [
    {
     "name": "stdout",
     "output_type": "stream",
     "text": [
      "Requirement already satisfied: pymongo in /opt/conda/lib/python3.8/site-packages (3.11.2)\r\n"
     ]
    }
   ],
   "source": [
    "!pip3 install pymongo"
   ]
  },
  {
   "cell_type": "code",
   "execution_count": 5,
   "id": "liberal-closer",
   "metadata": {},
   "outputs": [
    {
     "data": {
      "text/plain": [
       "<pymongo.results.InsertManyResult at 0x7fa1d56fdbc0>"
      ]
     },
     "execution_count": 5,
     "metadata": {},
     "output_type": "execute_result"
    }
   ],
   "source": [
    "# Persist temperature data in the database\n",
    "import pymongo\n",
    "DB_HOST = 'mongo'\n",
    "DB_PORT = 27017\n",
    "DB_NAME = 'temperature'\n",
    "from pymongo import MongoClient\n",
    "client = MongoClient(DB_HOST, DB_PORT)\n",
    "db = client[DB_NAME]\n",
    "posts = db.posts\n",
    "temp_entries_id = []\n",
    "temp_2013.apply(lambda x: temp_entries_id.append(x.to_dict()), axis=1)\n",
    "temp_entries_plain = [dict(x) for x in temp_entries_id]    \n",
    "posts.delete_many({})\n",
    "posts.insert_many(temp_entries_id)"
   ]
  },
  {
   "cell_type": "code",
   "execution_count": 6,
   "id": "mineral-duration",
   "metadata": {},
   "outputs": [
    {
     "name": "stdout",
     "output_type": "stream",
     "text": [
      "Requirement already satisfied: rejson in /opt/conda/lib/python3.8/site-packages (0.5.4)\r\n",
      "Requirement already satisfied: six>=1.10 in /opt/conda/lib/python3.8/site-packages (from rejson) (1.15.0)\r\n",
      "Requirement already satisfied: redis>=3.0.0 in /opt/conda/lib/python3.8/site-packages (from rejson) (3.5.3)\r\n"
     ]
    }
   ],
   "source": [
    "!pip3 install rejson"
   ]
  },
  {
   "cell_type": "code",
   "execution_count": 7,
   "id": "appreciated-apollo",
   "metadata": {},
   "outputs": [
    {
     "name": "stdout",
     "output_type": "stream",
     "text": [
      "{'Abidjan': {'dt': '2013-01-01', 'AverageTemperature': 27.751, 'AverageTemperatureUncertainty': 0.856, 'City': 'Abidjan', 'Country': \"Côte D'Ivoire\", 'Latitude': '5.63N', 'Longitude': '3.23W'}, 'Addis Abeba': {'dt': '2013-01-01', 'AverageTemperature': 18.852, 'AverageTemperatureUncertainty': 0.998, 'City': 'Addis Abeba', 'Country': 'Ethiopia', 'Latitude': '8.84N', 'Longitude': '38.11E'}, 'Ahmadabad': {'dt': '2013-01-01', 'AverageTemperature': 19.645, 'AverageTemperatureUncertainty': 0.443, 'City': 'Ahmadabad', 'Country': 'India', 'Latitude': '23.31N', 'Longitude': '72.52E'}, 'Aleppo': {'dt': '2013-01-01', 'AverageTemperature': 6.601, 'AverageTemperatureUncertainty': 0.409, 'City': 'Aleppo', 'Country': 'Syria', 'Latitude': '36.17N', 'Longitude': '37.79E'}, 'Alexandria': {'dt': '2013-01-01', 'AverageTemperature': 15.039, 'AverageTemperatureUncertainty': 0.334, 'City': 'Alexandria', 'Country': 'Egypt', 'Latitude': '31.35N', 'Longitude': '30.16E'}, 'Ankara': {'dt': '2013-01-01', 'AverageTemperature': 0.897, 'AverageTemperatureUncertainty': 0.4, 'City': 'Ankara', 'Country': 'Turkey', 'Latitude': '39.38N', 'Longitude': '33.29E'}, 'Baghdad': {'dt': '2013-01-01', 'AverageTemperature': 11.518, 'AverageTemperatureUncertainty': 1.052, 'City': 'Baghdad', 'Country': 'Iraq', 'Latitude': '32.95N', 'Longitude': '45.00E'}, 'Bangalore': {'dt': '2013-01-01', 'AverageTemperature': 24.168, 'AverageTemperatureUncertainty': 0.295, 'City': 'Bangalore', 'Country': 'India', 'Latitude': '12.05N', 'Longitude': '77.26E'}, 'Bangkok': {'dt': '2013-01-01', 'AverageTemperature': 26.355, 'AverageTemperatureUncertainty': 0.458, 'City': 'Bangkok', 'Country': 'Thailand', 'Latitude': '13.66N', 'Longitude': '99.91E'}, 'Belo Horizonte': {'dt': '2013-01-01', 'AverageTemperature': 23.094, 'AverageTemperatureUncertainty': 0.377, 'City': 'Belo Horizonte', 'Country': 'Brazil', 'Latitude': '20.09S', 'Longitude': '44.36W'}, 'Berlin': {'dt': '2013-01-01', 'AverageTemperature': 0.113, 'AverageTemperatureUncertainty': 0.285, 'City': 'Berlin', 'Country': 'Germany', 'Latitude': '52.24N', 'Longitude': '13.14E'}, 'Bogotá': {'dt': '2013-01-01', 'AverageTemperature': 20.967, 'AverageTemperatureUncertainty': 1.175, 'City': 'Bogotá', 'Country': 'Colombia', 'Latitude': '4.02N', 'Longitude': '74.73W'}, 'Bombay': {'dt': '2013-01-01', 'AverageTemperature': 24.187, 'AverageTemperatureUncertainty': 0.858, 'City': 'Bombay', 'Country': 'India', 'Latitude': '18.48N', 'Longitude': '72.68E'}, 'Brasília': {'dt': '2013-01-01', 'AverageTemperature': 22.726, 'AverageTemperatureUncertainty': 0.608, 'City': 'Brasília', 'Country': 'Brazil', 'Latitude': '15.27S', 'Longitude': '47.50W'}, 'Cairo': {'dt': '2013-01-01', 'AverageTemperature': 14.187, 'AverageTemperatureUncertainty': 0.259, 'City': 'Cairo', 'Country': 'Egypt', 'Latitude': '29.74N', 'Longitude': '31.38E'}, 'Calcutta': {'dt': '2013-01-01', 'AverageTemperature': 17.757, 'AverageTemperatureUncertainty': 0.419, 'City': 'Calcutta', 'Country': 'India', 'Latitude': '23.31N', 'Longitude': '88.25E'}, 'Cali': {'dt': '2013-01-01', 'AverageTemperature': 22.888, 'AverageTemperatureUncertainty': 1.334, 'City': 'Cali', 'Country': 'Colombia', 'Latitude': '4.02N', 'Longitude': '76.34W'}, 'Cape Town': {'dt': '2013-01-01', 'AverageTemperature': 20.545, 'AverageTemperatureUncertainty': 1.025, 'City': 'Cape Town', 'Country': 'South Africa', 'Latitude': '32.95S', 'Longitude': '18.19E'}, 'Casablanca': {'dt': '2013-01-01', 'AverageTemperature': 10.686, 'AverageTemperatureUncertainty': 0.579, 'City': 'Casablanca', 'Country': 'Morocco', 'Latitude': '32.95N', 'Longitude': '6.70W'}, 'Changchun': {'dt': '2013-01-01', 'AverageTemperature': -17.987, 'AverageTemperatureUncertainty': 0.917, 'City': 'Changchun', 'Country': 'China', 'Latitude': '44.20N', 'Longitude': '125.22E'}, 'Chengdu': {'dt': '2013-01-01', 'AverageTemperature': 0.614, 'AverageTemperatureUncertainty': 0.462, 'City': 'Chengdu', 'Country': 'China', 'Latitude': '31.35N', 'Longitude': '103.66E'}, 'Chicago': {'dt': '2013-01-01', 'AverageTemperature': 1.056, 'AverageTemperatureUncertainty': 0.528, 'City': 'Chicago', 'Country': 'United States', 'Latitude': '42.59N', 'Longitude': '87.27W'}, 'Chongqing': {'dt': '2013-01-01', 'AverageTemperature': 6.748, 'AverageTemperatureUncertainty': 0.878, 'City': 'Chongqing', 'Country': 'China', 'Latitude': '29.74N', 'Longitude': '107.08E'}, 'Dakar': {'dt': '2013-01-01', 'AverageTemperature': 21.994, 'AverageTemperatureUncertainty': 0.512, 'City': 'Dakar', 'Country': 'Senegal', 'Latitude': '15.27N', 'Longitude': '17.50W'}, 'Dalian': {'dt': '2013-01-01', 'AverageTemperature': -5.059, 'AverageTemperatureUncertainty': 0.786, 'City': 'Dalian', 'Country': 'China', 'Latitude': '39.38N', 'Longitude': '120.69E'}, 'Dar Es Salaam': {'dt': '2013-01-01', 'AverageTemperature': 28.761, 'AverageTemperatureUncertainty': 1.108, 'City': 'Dar Es Salaam', 'Country': 'Tanzania', 'Latitude': '7.23S', 'Longitude': '39.73E'}, 'Delhi': {'dt': '2013-01-01', 'AverageTemperature': 13.756, 'AverageTemperatureUncertainty': 0.61, 'City': 'Delhi', 'Country': 'India', 'Latitude': '28.13N', 'Longitude': '77.27E'}, 'Dhaka': {'dt': '2013-01-01', 'AverageTemperature': 17.116, 'AverageTemperatureUncertainty': 0.661, 'City': 'Dhaka', 'Country': 'Bangladesh', 'Latitude': '23.31N', 'Longitude': '90.00E'}, 'Durban': {'dt': '2013-01-01', 'AverageTemperature': 23.632, 'AverageTemperatureUncertainty': 0.876, 'City': 'Durban', 'Country': 'South Africa', 'Latitude': '29.74S', 'Longitude': '31.38E'}, 'Faisalabad': {'dt': '2013-01-01', 'AverageTemperature': 12.219, 'AverageTemperatureUncertainty': 0.374, 'City': 'Faisalabad', 'Country': 'Pakistan', 'Latitude': '31.35N', 'Longitude': '73.51E'}, 'Fortaleza': {'dt': '2013-01-01', 'AverageTemperature': 28.449, 'AverageTemperatureUncertainty': 0.606, 'City': 'Fortaleza', 'Country': 'Brazil', 'Latitude': '4.02S', 'Longitude': '40.98W'}, 'Gizeh': {'dt': '2013-01-01', 'AverageTemperature': 14.187, 'AverageTemperatureUncertainty': 0.259, 'City': 'Gizeh', 'Country': 'Egypt', 'Latitude': '29.74N', 'Longitude': '31.38E'}, 'Guangzhou': {'dt': '2013-01-01', 'AverageTemperature': 13.492, 'AverageTemperatureUncertainty': 0.366, 'City': 'Guangzhou', 'Country': 'China', 'Latitude': '23.31N', 'Longitude': '112.72E'}, 'Harare': {'dt': '2013-01-01', 'AverageTemperature': 22.235, 'AverageTemperatureUncertainty': 1.143, 'City': 'Harare', 'Country': 'Zimbabwe', 'Latitude': '18.48S', 'Longitude': '30.42E'}, 'Harbin': {'dt': '2013-01-01', 'AverageTemperature': -21.106, 'AverageTemperatureUncertainty': 1.467, 'City': 'Harbin', 'Country': 'China', 'Latitude': '45.81N', 'Longitude': '125.77E'}, 'Ho Chi Minh City': {'dt': '2013-01-01', 'AverageTemperature': 26.597, 'AverageTemperatureUncertainty': 0.298, 'City': 'Ho Chi Minh City', 'Country': 'Vietnam', 'Latitude': '10.45N', 'Longitude': '107.18E'}, 'Hyderabad': {'dt': '2013-01-01', 'AverageTemperature': 24.67, 'AverageTemperatureUncertainty': 0.769, 'City': 'Hyderabad', 'Country': 'India', 'Latitude': '16.87N', 'Longitude': '78.70E'}, 'Ibadan': {'dt': '2013-01-01', 'AverageTemperature': 28.136, 'AverageTemperatureUncertainty': 0.756, 'City': 'Ibadan', 'Country': 'Nigeria', 'Latitude': '7.23N', 'Longitude': '4.05E'}, 'Istanbul': {'dt': '2013-01-01', 'AverageTemperature': 6.915, 'AverageTemperatureUncertainty': 0.42, 'City': 'Istanbul', 'Country': 'Turkey', 'Latitude': '40.99N', 'Longitude': '29.82E'}, 'Izmir': {'dt': '2013-01-01', 'AverageTemperature': 11.065, 'AverageTemperatureUncertainty': 0.646, 'City': 'Izmir', 'Country': 'Turkey', 'Latitude': '37.78N', 'Longitude': '26.44E'}, 'Jaipur': {'dt': '2013-01-01', 'AverageTemperature': 15.421, 'AverageTemperatureUncertainty': 0.422, 'City': 'Jaipur', 'Country': 'India', 'Latitude': '26.52N', 'Longitude': '75.22E'}, 'Jakarta': {'dt': '2013-01-01', 'AverageTemperature': 26.742, 'AverageTemperatureUncertainty': 0.348, 'City': 'Jakarta', 'Country': 'Indonesia', 'Latitude': '5.63S', 'Longitude': '106.55E'}, 'Jiddah': {'dt': '2013-01-01', 'AverageTemperature': 24.404, 'AverageTemperatureUncertainty': 0.481, 'City': 'Jiddah', 'Country': 'Saudi Arabia', 'Latitude': '21.70N', 'Longitude': '38.94E'}, 'Jinan': {'dt': '2013-01-01', 'AverageTemperature': -1.821, 'AverageTemperatureUncertainty': 0.449, 'City': 'Jinan', 'Country': 'China', 'Latitude': '36.17N', 'Longitude': '117.35E'}, 'Kabul': {'dt': '2013-01-01', 'AverageTemperature': 2.347, 'AverageTemperatureUncertainty': 0.98, 'City': 'Kabul', 'Country': 'Afghanistan', 'Latitude': '34.56N', 'Longitude': '70.05E'}, 'Kano': {'dt': '2013-01-01', 'AverageTemperature': 22.647, 'AverageTemperatureUncertainty': 0.483, 'City': 'Kano', 'Country': 'Nigeria', 'Latitude': '12.05N', 'Longitude': '8.22E'}, 'Kanpur': {'dt': '2013-01-01', 'AverageTemperature': 13.49, 'AverageTemperatureUncertainty': 0.429, 'City': 'Kanpur', 'Country': 'India', 'Latitude': '26.52N', 'Longitude': '80.60E'}, 'Karachi': {'dt': '2013-01-01', 'AverageTemperature': 18.912, 'AverageTemperatureUncertainty': 0.659, 'City': 'Karachi', 'Country': 'Pakistan', 'Latitude': '24.92N', 'Longitude': '67.39E'}, 'Kiev': {'dt': '2013-01-01', 'AverageTemperature': -4.874, 'AverageTemperatureUncertainty': 0.594, 'City': 'Kiev', 'Country': 'Ukraine', 'Latitude': '50.63N', 'Longitude': '31.69E'}, 'Kinshasa': {'dt': '2013-01-01', 'AverageTemperature': 25.076, 'AverageTemperatureUncertainty': 0.656, 'City': 'Kinshasa', 'Country': 'Congo (Democratic Republic Of The)', 'Latitude': '4.02S', 'Longitude': '15.27E'}, 'Lagos': {'dt': '2013-01-01', 'AverageTemperature': 27.353, 'AverageTemperatureUncertainty': 0.765, 'City': 'Lagos', 'Country': 'Nigeria', 'Latitude': '5.63N', 'Longitude': '3.23E'}, 'Lahore': {'dt': '2013-01-01', 'AverageTemperature': 12.219, 'AverageTemperatureUncertainty': 0.374, 'City': 'Lahore', 'Country': 'Pakistan', 'Latitude': '31.35N', 'Longitude': '73.51E'}, 'Lakhnau': {'dt': '2013-01-01', 'AverageTemperature': 13.49, 'AverageTemperatureUncertainty': 0.429, 'City': 'Lakhnau', 'Country': 'India', 'Latitude': '26.52N', 'Longitude': '80.60E'}, 'Lima': {'dt': '2013-01-01', 'AverageTemperature': 19.729, 'AverageTemperatureUncertainty': 0.99, 'City': 'Lima', 'Country': 'Peru', 'Latitude': '12.05S', 'Longitude': '77.26W'}, 'London': {'dt': '2013-01-01', 'AverageTemperature': 3.417, 'AverageTemperatureUncertainty': 0.588, 'City': 'London', 'Country': 'United Kingdom', 'Latitude': '52.24N', 'Longitude': '0.00W'}, 'Los Angeles': {'dt': '2013-01-01', 'AverageTemperature': 8.813, 'AverageTemperatureUncertainty': 0.651, 'City': 'Los Angeles', 'Country': 'United States', 'Latitude': '34.56N', 'Longitude': '118.70W'}, 'Luanda': {'dt': '2013-01-01', 'AverageTemperature': 26.331, 'AverageTemperatureUncertainty': 0.754, 'City': 'Luanda', 'Country': 'Angola', 'Latitude': '8.84S', 'Longitude': '13.78E'}, 'Madras': {'dt': '2013-01-01', 'AverageTemperature': 26.141, 'AverageTemperatureUncertainty': 0.496, 'City': 'Madras', 'Country': 'India', 'Latitude': '13.66N', 'Longitude': '80.09E'}, 'Madrid': {'dt': '2013-01-01', 'AverageTemperature': 4.691, 'AverageTemperatureUncertainty': 0.256, 'City': 'Madrid', 'Country': 'Spain', 'Latitude': '40.99N', 'Longitude': '4.26W'}, 'Manila': {'dt': '2013-01-01', 'AverageTemperature': 25.497, 'AverageTemperatureUncertainty': 0.246, 'City': 'Manila', 'Country': 'Philippines', 'Latitude': '15.27N', 'Longitude': '120.83E'}, 'Mashhad': {'dt': '2013-01-01', 'AverageTemperature': 3.416, 'AverageTemperatureUncertainty': 0.729, 'City': 'Mashhad', 'Country': 'Iran', 'Latitude': '36.17N', 'Longitude': '59.67E'}, 'Melbourne': {'dt': '2013-01-01', 'AverageTemperature': 20.274, 'AverageTemperatureUncertainty': 0.178, 'City': 'Melbourne', 'Country': 'Australia', 'Latitude': '37.78S', 'Longitude': '144.41E'}, 'Mexico': {'dt': '2013-01-01', 'AverageTemperature': 13.077, 'AverageTemperatureUncertainty': 0.244, 'City': 'Mexico', 'Country': 'Mexico', 'Latitude': '20.09N', 'Longitude': '98.96W'}, 'Mogadishu': {'dt': '2013-01-01', 'AverageTemperature': 27.451, 'AverageTemperatureUncertainty': 1.284, 'City': 'Mogadishu', 'Country': 'Somalia', 'Latitude': '2.41N', 'Longitude': '45.80E'}, 'Montreal': {'dt': '2013-01-01', 'AverageTemperature': -10.044, 'AverageTemperatureUncertainty': 0.319, 'City': 'Montreal', 'Country': 'Canada', 'Latitude': '45.81N', 'Longitude': '72.69W'}, 'Moscow': {'dt': '2013-01-01', 'AverageTemperature': -9.23, 'AverageTemperatureUncertainty': 0.655, 'City': 'Moscow', 'Country': 'Russia', 'Latitude': '55.45N', 'Longitude': '36.85E'}, 'Nagoya': {'dt': '2013-01-01', 'AverageTemperature': 3.917, 'AverageTemperatureUncertainty': 0.213, 'City': 'Nagoya', 'Country': 'Japan', 'Latitude': '34.56N', 'Longitude': '136.22E'}, 'Nagpur': {'dt': '2013-01-01', 'AverageTemperature': 19.112, 'AverageTemperatureUncertainty': 0.645, 'City': 'Nagpur', 'Country': 'India', 'Latitude': '21.70N', 'Longitude': '78.75E'}, 'Nairobi': {'dt': '2013-01-01', 'AverageTemperature': 17.901, 'AverageTemperatureUncertainty': 0.684, 'City': 'Nairobi', 'Country': 'Kenya', 'Latitude': '0.80S', 'Longitude': '36.16E'}, 'Nanjing': {'dt': '2013-01-01', 'AverageTemperature': 3.018, 'AverageTemperatureUncertainty': 0.321, 'City': 'Nanjing', 'Country': 'China', 'Latitude': '31.35N', 'Longitude': '118.74E'}, 'New Delhi': {'dt': '2013-01-01', 'AverageTemperature': 13.756, 'AverageTemperatureUncertainty': 0.61, 'City': 'New Delhi', 'Country': 'India', 'Latitude': '28.13N', 'Longitude': '77.27E'}, 'New York': {'dt': '2013-01-01', 'AverageTemperature': -0.968, 'AverageTemperatureUncertainty': 0.29, 'City': 'New York', 'Country': 'United States', 'Latitude': '40.99N', 'Longitude': '74.56W'}, 'Paris': {'dt': '2013-01-01', 'AverageTemperature': 3.044, 'AverageTemperatureUncertainty': 0.746, 'City': 'Paris', 'Country': 'France', 'Latitude': '49.03N', 'Longitude': '2.45E'}, 'Peking': {'dt': '2013-01-01', 'AverageTemperature': -4.977, 'AverageTemperatureUncertainty': 0.62, 'City': 'Peking', 'Country': 'China', 'Latitude': '39.38N', 'Longitude': '116.53E'}, 'Pune': {'dt': '2013-01-01', 'AverageTemperature': 21.109, 'AverageTemperatureUncertainty': 0.943, 'City': 'Pune', 'Country': 'India', 'Latitude': '18.48N', 'Longitude': '74.37E'}, 'Rangoon': {'dt': '2013-01-01', 'AverageTemperature': 24.774, 'AverageTemperatureUncertainty': 0.628, 'City': 'Rangoon', 'Country': 'Burma', 'Latitude': '16.87N', 'Longitude': '95.44E'}, 'Rio De Janeiro': {'dt': '2013-01-01', 'AverageTemperature': 26.009, 'AverageTemperatureUncertainty': 0.953, 'City': 'Rio De Janeiro', 'Country': 'Brazil', 'Latitude': '23.31S', 'Longitude': '42.82W'}, 'Riyadh': {'dt': '2013-01-01', 'AverageTemperature': 15.433, 'AverageTemperatureUncertainty': 0.439, 'City': 'Riyadh', 'Country': 'Saudi Arabia', 'Latitude': '24.92N', 'Longitude': '46.11E'}, 'Rome': {'dt': '2013-01-01', 'AverageTemperature': 4.261, 'AverageTemperatureUncertainty': 0.308, 'City': 'Rome', 'Country': 'Italy', 'Latitude': '42.59N', 'Longitude': '13.09E'}, 'São Paulo': {'dt': '2013-01-01', 'AverageTemperature': 22.503, 'AverageTemperatureUncertainty': 0.631, 'City': 'São Paulo', 'Country': 'Brazil', 'Latitude': '23.31S', 'Longitude': '46.31W'}, 'Saint Petersburg': {'dt': '2013-01-01', 'AverageTemperature': -6.218, 'AverageTemperatureUncertainty': 0.298, 'City': 'Saint Petersburg', 'Country': 'Russia', 'Latitude': '60.27N', 'Longitude': '29.19E'}, 'Salvador': {'dt': '2013-01-01', 'AverageTemperature': 27.197, 'AverageTemperatureUncertainty': 0.275, 'City': 'Salvador', 'Country': 'Brazil', 'Latitude': '13.66S', 'Longitude': '38.81W'}, 'Santiago': {'dt': '2013-01-01', 'AverageTemperature': 13.417, 'AverageTemperatureUncertainty': 0.237, 'City': 'Santiago', 'Country': 'Chile', 'Latitude': '32.95S', 'Longitude': '69.89W'}, 'Santo Domingo': {'dt': '2013-01-01', 'AverageTemperature': 24.773, 'AverageTemperatureUncertainty': 1.142, 'City': 'Santo Domingo', 'Country': 'Dominican Republic', 'Latitude': '18.48N', 'Longitude': '69.30W'}, 'Seoul': {'dt': '2013-01-01', 'AverageTemperature': -4.203, 'AverageTemperatureUncertainty': 0.49, 'City': 'Seoul', 'Country': 'South Korea', 'Latitude': '37.78N', 'Longitude': '126.10E'}, 'Shanghai': {'dt': '2013-01-01', 'AverageTemperature': 3.677, 'AverageTemperatureUncertainty': 0.367, 'City': 'Shanghai', 'Country': 'China', 'Latitude': '31.35N', 'Longitude': '120.63E'}, 'Shenyang': {'dt': '2013-01-01', 'AverageTemperature': -12.224, 'AverageTemperatureUncertainty': 1.007, 'City': 'Shenyang', 'Country': 'China', 'Latitude': '40.99N', 'Longitude': '123.55E'}, 'Singapore': {'dt': '2013-01-01', 'AverageTemperature': 26.836, 'AverageTemperatureUncertainty': 0.36, 'City': 'Singapore', 'Country': 'Singapore', 'Latitude': '0.80N', 'Longitude': '103.66E'}, 'Surabaya': {'dt': '2013-01-01', 'AverageTemperature': 27.021, 'AverageTemperatureUncertainty': 0.381, 'City': 'Surabaya', 'Country': 'Indonesia', 'Latitude': '7.23S', 'Longitude': '112.70E'}, 'Surat': {'dt': '2013-01-01', 'AverageTemperature': 20.213, 'AverageTemperatureUncertainty': 0.54, 'City': 'Surat', 'Country': 'India', 'Latitude': '21.70N', 'Longitude': '73.56E'}, 'Sydney': {'dt': '2013-01-01', 'AverageTemperature': 21.16, 'AverageTemperatureUncertainty': 0.263, 'City': 'Sydney', 'Country': 'Australia', 'Latitude': '34.56S', 'Longitude': '151.78E'}, 'Taipei': {'dt': '2013-01-01', 'AverageTemperature': 17.021, 'AverageTemperatureUncertainty': 0.379, 'City': 'Taipei', 'Country': 'Taiwan', 'Latitude': '24.92N', 'Longitude': '122.36E'}, 'Taiyuan': {'dt': '2013-01-01', 'AverageTemperature': -7.878, 'AverageTemperatureUncertainty': 0.264, 'City': 'Taiyuan', 'Country': 'China', 'Latitude': '37.78N', 'Longitude': '111.86E'}, 'Tangshan': {'dt': '2013-01-01', 'AverageTemperature': -3.626, 'AverageTemperatureUncertainty': 0.346, 'City': 'Tangshan', 'Country': 'China', 'Latitude': '37.78N', 'Longitude': '113.90E'}, 'Tianjin': {'dt': '2013-01-01', 'AverageTemperature': -4.977, 'AverageTemperatureUncertainty': 0.62, 'City': 'Tianjin', 'Country': 'China', 'Latitude': '39.38N', 'Longitude': '116.53E'}, 'Tokyo': {'dt': '2013-01-01', 'AverageTemperature': 1.288, 'AverageTemperatureUncertainty': 0.287, 'City': 'Tokyo', 'Country': 'Japan', 'Latitude': '36.17N', 'Longitude': '139.23E'}, 'Toronto': {'dt': '2013-01-01', 'AverageTemperature': -4.681, 'AverageTemperatureUncertainty': 0.235, 'City': 'Toronto', 'Country': 'Canada', 'Latitude': '44.20N', 'Longitude': '80.50W'}, 'Umm Durman': {'dt': '2013-01-01', 'AverageTemperature': 24.668, 'AverageTemperatureUncertainty': 0.496, 'City': 'Umm Durman', 'Country': 'Sudan', 'Latitude': '15.27N', 'Longitude': '32.50E'}, 'Wuhan': {'dt': '2013-01-01', 'AverageTemperature': 4.21, 'AverageTemperatureUncertainty': 0.372, 'City': 'Wuhan', 'Country': 'China', 'Latitude': '29.74N', 'Longitude': '114.46E'}, 'Xian': {'dt': '2013-01-01', 'AverageTemperature': -1.635, 'AverageTemperatureUncertainty': 0.432, 'City': 'Xian', 'Country': 'China', 'Latitude': '34.56N', 'Longitude': '108.97E'}}\n"
     ]
    }
   ],
   "source": [
    "# Store temperature data in the cache\n",
    "from rejson import Client, Path\n",
    "from collections import defaultdict\n",
    "CACHE_HOST = 'redis'\n",
    "CACHE_PORT = 6379\n",
    "CACHE_INDEX = 'temperature'\n",
    "temp_entries_dict = defaultdict(dict)\n",
    "temp_entries_dict = {x['City']: {k:v for k, v in x.items() if k != '_id'} for x in temp_entries_id}\n",
    "rj = Client(host=CACHE_HOST, port=CACHE_PORT, decode_responses=True)\n",
    "rj.jsonset(CACHE_INDEX, Path.rootPath(), temp_entries_dict)\n",
    "j = rj.jsonget(CACHE_INDEX, Path.rootPath(), no_escape=True)\n",
    "print(j)"
   ]
  },
  {
   "cell_type": "code",
   "execution_count": null,
   "id": "developing-collins",
   "metadata": {},
   "outputs": [],
   "source": []
  }
 ],
 "metadata": {
  "kernelspec": {
   "display_name": "Python 3",
   "language": "python",
   "name": "python3"
  },
  "language_info": {
   "codemirror_mode": {
    "name": "ipython",
    "version": 3
   },
   "file_extension": ".py",
   "mimetype": "text/x-python",
   "name": "python",
   "nbconvert_exporter": "python",
   "pygments_lexer": "ipython3",
   "version": "3.8.6"
  }
 },
 "nbformat": 4,
 "nbformat_minor": 5
}
